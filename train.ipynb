{
 "cells": [
  {
   "cell_type": "code",
   "execution_count": 1,
   "metadata": {},
   "outputs": [],
   "source": [
    "from utils import process_ns3_csv\n",
    "input_filenames =  [\n",
    "    '20241119_st-100_N-50_BH-5_SF-0_L-15_uni-1',\n",
    "    '20241119_st-100_N-50_BH-10_SF-0_L-15_uni-1',\n",
    "    '20241119_st-100_N-50_BH-15_SF-0_L-15_uni-1',\n",
    "    '20241119_st-100_N-50_BH-20_SF-0_L-15_uni-1',\n",
    "    '20241119_st-100_N-100_BH-10_SF-0_L-20_uni-1',\n",
    "    '20241119_st-100_N-100_BH-20_SF-0_L-20_uni-1',\n",
    "    '20241119_st-100_N-100_BH-30_SF-0_L-20_uni-1',\n",
    "    '20241119_st-100_N-100_BH-40_SF-0_L-20_uni-1',\n",
    "    # 其他的 filenames...\n",
    "]\n",
    "\n",
    "input_log_files = [\n",
    "    '/log1119_BH0.1_uniform_1515seed_12345.txt',\n",
    "    '/log1119_BH0.2_uniform_1515seed_12345.txt',\n",
    "    '/log1119_BH0.3_uniform_1515seed_12345.txt',\n",
    "    '/log1119_BH0.4_uniform_1515seed_12345.txt',\n",
    "    '/log1119_BH0.1_uniform_2020seed_12345.txt',\n",
    "    '/log1119_BH0.2_uniform_2020seed_12345.txt',\n",
    "    '/log1119_BH0.3_uniform_2020seed_12345.txt',\n",
    "    '/log1119_BH0.4_uniform_2020seed_12345.txt',\n",
    "]\n",
    "\n",
    "\n",
    "\n",
    "for i in range(len(input_filenames)):\n",
    "    filename = input_filenames[i]\n",
    "    log_file = './dataset/' + filename + input_log_files[i]\n",
    "    input_file = './dataset/' + filename + '/MonitorSnifferRx.csv'\n",
    "    output_file = './dataset/' + filename + '/ProcessedMonitorSnifferRx_Time10.csv'\n",
    "    # process_ns3_csv(input_file, output_file, log_file)"
   ]
  },
  {
   "cell_type": "code",
   "execution_count": 2,
   "metadata": {},
   "outputs": [],
   "source": [
    "from utils import load_data\n",
    "import numpy as np\n",
    "import models "
   ]
  },
  {
   "cell_type": "code",
   "execution_count": 15,
   "metadata": {
    "collapsed": false,
    "jupyter": {
     "outputs_hidden": false
    },
    "pycharm": {
     "name": "#%%\n"
    }
   },
   "outputs": [],
   "source": [
    "#训练集1\n",
    "np.set_printoptions(threshold=np.inf)  # 这将打印所有内容，去掉折叠\n",
    "data_file ='./dataset/' + '20241119_st-100_N-100_BH-20_SF-0_L-20_uni-1' + '/ProcessedMonitorSnifferRx_Time10.csv'\n",
    "train_processed_data, train_adj, train_T, train_group_num = load_data(1,data_file)\n",
    "# print(train_processed_data[0].edge_attr)\n",
    "edge_feature_size = train_processed_data[0].edge_attr.shape[1]\n",
    "nodes_feature_size = train_processed_data[0].x.shape[1]"
   ]
  },
  {
   "cell_type": "code",
   "execution_count": 16,
   "metadata": {},
   "outputs": [],
   "source": [
    "#训练集2\n",
    "# train_processed_data = []\n",
    "# train_adj = []\n",
    "# train_T = []\n",
    "# for i in range(len(input_filenames)):\n",
    "#     filename = input_filenames[i]\n",
    "#     data_file = './dataset/' + filename + '/ProcessedMonitorSnifferRx_Time10.csv'\n",
    "#     processed_data, adj, T, _ = load_data(1,data_file)\n",
    "#     train_processed_data.append(processed_data[0])\n",
    "#     train_adj.append(adj[0])\n",
    "#     train_T.append(T[0])\n",
    "# train_group_num = len(input_filenames)"
   ]
  },
  {
   "cell_type": "code",
   "execution_count": 17,
   "metadata": {
    "collapsed": false,
    "jupyter": {
     "outputs_hidden": false
    },
    "pycharm": {
     "name": "#%%\n"
    }
   },
   "outputs": [],
   "source": [
    "# 设置numpy的打印选项，显示更多行列\n",
    "\n",
    "\n",
    "# 打印节点特征（processed_data.x.shape）\n",
    "# print(train_processed_data[0].x)\n",
    "# print(adj[12])\n",
    "# print(T[12])"
   ]
  },
  {
   "cell_type": "code",
   "execution_count": 18,
   "metadata": {},
   "outputs": [],
   "source": [
    "# 打印边连接关系（processed_data.edge_index）\n",
    "# print(processed_data[-1].edge_index.numpy().size)"
   ]
  },
  {
   "cell_type": "code",
   "execution_count": 19,
   "metadata": {
    "collapsed": false,
    "jupyter": {
     "outputs_hidden": false
    },
    "pycharm": {
     "name": "#%%\n"
    }
   },
   "outputs": [],
   "source": [
    "# 打印节点标签（processed_data.y）\n",
    "np.set_printoptions(threshold=np.inf)\n",
    "# print(processed_data[0].y.numpy())\n",
    "# print(processed_data[0].x[:, 0:23].numpy())\n",
    "# print(processed_data[5].y.numpy())\n",
    "# print(processed_data[5].edge_index)\n",
    "# print(processed_data[5].edge_weights)\n",
    "# print(processed_data[5].x.numpy())"
   ]
  },
  {
   "cell_type": "code",
   "execution_count": 20,
   "metadata": {
    "collapsed": false,
    "jupyter": {
     "outputs_hidden": false
    },
    "pycharm": {
     "name": "#%%\n"
    }
   },
   "outputs": [
    {
     "name": "stdout",
     "output_type": "stream",
     "text": [
      "HypergraphModel(\n",
      "  (layer1): HypergraphConvLayer(\n",
      "    (conv): HypergraphConv(3, 32)\n",
      "  )\n",
      "  (edge_conv): GraphConvolution()\n",
      "  (class_classifier): Sequential(\n",
      "    (0): Linear(in_features=32, out_features=16, bias=True)\n",
      "    (1): ReLU()\n",
      "    (2): Linear(in_features=16, out_features=2, bias=True)\n",
      "  )\n",
      "  (norm1): CustomBatchNorm()\n",
      "  (norm2): CustomBatchNorm()\n",
      ")\n",
      "Available GPUs: 1\n",
      "GPU 0: NVIDIA A100 80GB PCIe\n"
     ]
    }
   ],
   "source": [
    "import torch\n",
    "train_model = models.HypergraphModel(nodes_feature_size, edge_feature_size)\n",
    "print(train_model)\n",
    "# 查看可用的 GPU 数量\n",
    "num_gpus = torch.cuda.device_count()\n",
    "print(f\"Available GPUs: {num_gpus}\")\n",
    "\n",
    "# 打印每个 GPU 的名称\n",
    "for i in range(num_gpus):\n",
    "    print(f\"GPU {i}: {torch.cuda.get_device_name(i)}\")\n",
    "device = torch.device(\"cuda\" if torch.cuda.is_available() else \"cpu\")\n",
    "train_model = train_model.to(device)"
   ]
  },
  {
   "cell_type": "code",
   "execution_count": 21,
   "metadata": {},
   "outputs": [
    {
     "name": "stdout",
     "output_type": "stream",
     "text": [
      "10\n"
     ]
    }
   ],
   "source": [
    "import time\n",
    "import torch.optim as optim\n",
    "from utils import accuracy, auc, precision, recall, f1_score\n",
    "import torch.nn.functional as F\n",
    "criteria = torch.nn.CrossEntropyLoss()\n",
    "learning_rate = 0.001\n",
    "weight_decay = 5e-4\n",
    "optimizer = optim.Adam(train_model.parameters(), lr=learning_rate, weight_decay=weight_decay)\n",
    "acc_measure = accuracy\n",
    "train_end_index = train_group_num\n",
    "print(train_end_index)\n",
    "val_index = train_group_num - 1\n",
    "def train(epoch, save_path):\n",
    "    t = time.time()\n",
    "    train_model.train()\n",
    "    optimizer.zero_grad()\n",
    "    # print(processed_data[0].x[0:23].shape)\n",
    "    # print(processed_data[0].edge_weights.shape)\n",
    "    # print(processed_data[0].edge_index.shape)\n",
    "    for i in range(train_end_index):\n",
    "        # print(i)\n",
    "        output = train_model(train_processed_data[i].x.to(device),\n",
    "                             train_processed_data[i].edge_index.to(device), \n",
    "                             train_processed_data[i].edge_weights.to(device), \n",
    "                             train_processed_data[i].edge_attr.to(device), \n",
    "                             train_adj[i].to(device),\n",
    "                             train_T[i].to(device))\n",
    "        # print(output)\n",
    "        labels = train_processed_data[i].y.to(device)\n",
    "        loss_train = criteria(output, labels)\n",
    "        # print(output[:, 1])\n",
    "        acc_train = acc_measure(output, labels)\n",
    "        \n",
    "        loss_train.backward(retain_graph=True)\n",
    "        optimizer.step()\n",
    "\n",
    "        \n",
    "        train_model.eval()\n",
    "        output = train_model(train_processed_data[val_index].x.to(device),\n",
    "                             train_processed_data[val_index].edge_index.to(device), \n",
    "                             train_processed_data[val_index].edge_weights.to(device),\n",
    "                             train_processed_data[val_index].edge_attr.to(device),\n",
    "                             train_adj[val_index].to(device),\n",
    "                             train_T[val_index].to(device))\n",
    "        # print(output)\n",
    "        labels = train_processed_data[val_index].y.to(device)\n",
    "        loss_val = criteria(output, labels)\n",
    "        acc_val = acc_measure(output, labels)\n",
    "        auc_val = auc(output, labels)\n",
    "        per_val = precision(output, labels)\n",
    "        recall_val = recall(output, labels)\n",
    "        f1_val = f1_score(output, labels)\n",
    "        # print(\n",
    "        #     'loss_train: {:.4f}'.format(loss_train.item()),\n",
    "        #     'acc_train: {:.4f}'.format(acc_train.item()),\n",
    "        #     'loss_val: {:.4f}'.format(loss_val.item()),\n",
    "        #     'acc_val: {:.4f}'.format(acc_val.item()),\n",
    "        #     'auc_val: {:.4f}'.format(auc_val),\n",
    "        #     'per_val: {:.4f}'.format(per_val),\n",
    "        #     'recall_val: {:.4f}'.format(recall_val),\n",
    "        #     'f1_val: {:.4f}'.format(f1_val),\n",
    "        #     'time: {:.4f}s'.format(time.time() - t))\n",
    "    # 每个 epoch 结束后保存模型\n",
    "    torch.save(train_model.state_dict(), save_path)\n",
    "    # torch.save({\n",
    "    #     'epoch': epoch,\n",
    "    #     'model_state_dict': train_model.state_dict(),\n",
    "    #     'optimizer_state_dict': optimizer.state_dict(),\n",
    "    #     }, save_path)\n",
    "    # print(f'Model saved to {save_path}')\n",
    "\n",
    "    return loss_val.item()\n"
   ]
  },
  {
   "cell_type": "code",
   "execution_count": 22,
   "metadata": {},
   "outputs": [
    {
     "name": "stdout",
     "output_type": "stream",
     "text": [
      "10\n"
     ]
    }
   ],
   "source": [
    "filename = '20241119_st-100_N-50_BH-5_SF-0_L-15_uni-1'\n",
    "test_data_file = './dataset/' + filename + '/ProcessedMonitorSnifferRx_Time10.csv'\n",
    "test_data, test_adj, test_T, test_group_num = load_data(1,test_data_file)\n",
    "# print(processed_data[0].edge_attr)\n",
    "end_index = len(test_data)\n",
    "print(end_index)\n",
    "top_k = 10  # 选择前10个最佳的指标值\n",
    "\n",
    "filenames = [\n",
    "    # '20241119_st-100_N-50_BH-5_SF-0_L-15_uni-1',\n",
    "    # '20241119_st-100_N-50_BH-10_SF-0_L-15_uni-1',\n",
    "    # '20241119_st-100_N-50_BH-15_SF-0_L-15_uni-1',\n",
    "    # '20241119_st-100_N-50_BH-20_SF-0_L-15_uni-1',\n",
    "    # '20241119_st-100_N-100_BH-10_SF-0_L-20_uni-1',\n",
    "    # '20241119_st-100_N-100_BH-20_SF-0_L-20_uni-1',\n",
    "    # '20241119_st-100_N-100_BH-30_SF-0_L-20_uni-1',\n",
    "    '20241119_st-100_N-100_BH-40_SF-0_L-20_uni-1',\n",
    "    # 其他的 filenames...\n",
    "]\n",
    "num_metrics = len(filenames)\n",
    "\n",
    "dataset_results = {\n",
    "    'losses': [[[] for _ in range(end_index)] for _ in range(num_metrics)],  # 多维，记录每个数据集的多个loss值\n",
    "    'accuracies': [[[] for _ in range(end_index)] for _ in range(num_metrics)],\n",
    "    'aucs': [[[] for _ in range(end_index)] for _ in range(num_metrics)],\n",
    "    'precisions': [[[] for _ in range(end_index)] for _ in range(num_metrics)],\n",
    "    'recalls': [[[] for _ in range(end_index)] for _ in range(num_metrics)],\n",
    "    'f1_scores': [[[] for _ in range(end_index)] for _ in range(num_metrics)],\n",
    "}\n",
    "\n",
    "final_results = {\n",
    "        'losses': [[] for _ in range(num_metrics)],\n",
    "        'accuracies': [[] for _ in range(num_metrics)],\n",
    "        'aucs': [[] for _ in range(num_metrics)],\n",
    "        'precisions': [[] for _ in range(num_metrics)],\n",
    "        'recalls': [[] for _ in range(num_metrics)],\n",
    "        'f1_scores': [[] for _ in range(num_metrics)],\n",
    "    }\n",
    "\n",
    "def get_top_k_avg(metric_list, top_k=top_k):\n",
    "    \"\"\"获取指标列表中的前top_k个值的均值\"\"\"\n",
    "    return np.mean(sorted(metric_list, reverse=True)[:top_k])\n",
    "        \n",
    "def test(testfilename):\n",
    "    test_data_file = './dataset/' + testfilename + '/ProcessedMonitorSnifferRx_Time10.csv'\n",
    "    test_data, test_adj, test_T, test_group_num = load_data(1,test_data_file)\n",
    "    \n",
    "    train_model.eval()\n",
    "    \n",
    "    for i in range(end_index):\n",
    "        output = train_model(test_data[i].x.to(device),\n",
    "                             test_data[i].edge_index.to(device).to(device), \n",
    "                             test_data[i].edge_weights.to(device),\n",
    "                             test_data[i].edge_attr.to(device),\n",
    "                             test_adj[i].to(device),\n",
    "                             test_T[i].to(device))\n",
    "        labels = test_data[test_group_num-1].y.to(device)\n",
    "        # print(output)\n",
    "        # print(labels)\n",
    "        loss_test = criteria(output, labels)\n",
    "        acc_test = acc_measure(output, labels)\n",
    "        auc_test = auc(output, labels)\n",
    "        per_test = precision(output, labels)\n",
    "        recall_test = recall(output, labels)\n",
    "        f1_test = f1_score(output, labels)\n",
    "\n",
    "        # 将当前指标添加到相应的数据集列表中\n",
    "        dataset_results['losses'][filenames.index(testfilename)][i].append(loss_test.item())\n",
    "        dataset_results['accuracies'][filenames.index(testfilename)][i].append(acc_test.item())\n",
    "        dataset_results['aucs'][filenames.index(testfilename)][i].append(auc_test)\n",
    "        dataset_results['precisions'][filenames.index(testfilename)][i].append(per_test)\n",
    "        dataset_results['recalls'][filenames.index(testfilename)][i].append(recall_test)\n",
    "        dataset_results['f1_scores'][filenames.index(testfilename)][i].append(f1_test)\n",
    "        \n",
    "        # print(\n",
    "        #     \"Dataset \" +\n",
    "        #     str(filenames.index(testfilename)) +\n",
    "        #     \" Test set \" +\n",
    "        #     str(i) +\n",
    "        #     \" results:\",\n",
    "        #     \"loss= {:.4f}\".format(loss_test.item()),\n",
    "        #     \"accuracy= {:.4f}\".format(acc_test.item()),\n",
    "        #     'auc_test: {:.4f}'.format(auc_test),\n",
    "        #     'per_test: {:.4f}'.format(per_test),\n",
    "        #     'recall_test: {:.4f}'.format(recall_test),\n",
    "        #     'f1_test: {:.4f}'.format(f1_test))\n",
    "    return acc_test.item()\n",
    "\n",
    "def get_top_k_AVEresult(testfilename):\n",
    "\n",
    "\n",
    "    # 对每个数据集（共10个数据集）计算最好的10个测试结果的均值\n",
    "    for i in range(end_index):\n",
    "        final_results['losses'][filenames.index(testfilename)].append(get_top_k_avg(dataset_results['losses'][filenames.index(testfilename)][i]))\n",
    "        final_results['accuracies'][filenames.index(testfilename)].append(get_top_k_avg(dataset_results['accuracies'][filenames.index(testfilename)][i]))\n",
    "        final_results['aucs'][filenames.index(testfilename)].append(get_top_k_avg(dataset_results['aucs'][filenames.index(testfilename)][i]))\n",
    "        final_results['precisions'][filenames.index(testfilename)].append(get_top_k_avg(dataset_results['precisions'][filenames.index(testfilename)][i]))\n",
    "        final_results['recalls'][filenames.index(testfilename)].append(get_top_k_avg(dataset_results['recalls'][filenames.index(testfilename)][i]))\n",
    "        final_results['f1_scores'][filenames.index(testfilename)].append(get_top_k_avg(dataset_results['f1_scores'][filenames.index(testfilename)][i]))\n",
    "\n",
    "    # 输出每个数据集的最终结果（前10个测试结果的均值）\n",
    "    print(\"\\nFinal results (average of top 10 for each dataset):\")\n",
    "    for i in range(end_index):\n",
    "        print(f\"Dataset {i + 1}:\")\n",
    "        print(f\"  Average loss: {final_results['losses'][filenames.index(testfilename)][i]:.4f}\")\n",
    "        print(f\"  Average accuracy: {final_results['accuracies'][filenames.index(testfilename)][i]:.4f}\")\n",
    "        print(f\"  Average AUC: {final_results['aucs'][filenames.index(testfilename)][i]:.4f}\")\n",
    "        print(f\"  Average Precision: {final_results['precisions'][filenames.index(testfilename)][i]:.4f}\")\n",
    "        print(f\"  Average Recall: {final_results['recalls'][filenames.index(testfilename)][i]:.4f}\")\n",
    "        print(f\"  Average F1-score: {final_results['f1_scores'][filenames.index(testfilename)][i]:.4f}\")\n",
    "        print()\n",
    "    output_file = './dataset/' + testfilename + '/result.txt'\n",
    "    with open(output_file, 'a') as f:\n",
    "        f.write(\"Test Results:\\n\")\n",
    "        f.write(\"=\"*80 + \"\\n\")\n",
    "        f.write(\"\\nFinal results\" + testfilename + \"(average of top 10 for each dataset):\\n\")\n",
    "        for i in range(end_index):\n",
    "            f.write(f\"Dataset {i + 1}:\\n\")\n",
    "            f.write(f\"  Average loss: {final_results['losses'][filenames.index(testfilename)][i]:.4f}\\n\")\n",
    "            f.write(f\"  Average accuracy: {final_results['accuracies'][filenames.index(testfilename)][i]:.4f}\\n\")\n",
    "            f.write(f\"  Average AUC: {final_results['aucs'][filenames.index(testfilename)][i]:.4f}\\n\")\n",
    "            f.write(f\"  Average Precision: {final_results['precisions'][filenames.index(testfilename)][i]:.4f}\\n\")\n",
    "            f.write(f\"  Average Recall: {final_results['recalls'][filenames.index(testfilename)][i]:.4f}\\n\")\n",
    "            f.write(f\"  Average F1-score: {final_results['f1_scores'][filenames.index(testfilename)][i]:.4f}\\n\")\n",
    "            f.write(\"-\"*80 + \"\\n\")"
   ]
  },
  {
   "cell_type": "code",
   "execution_count": null,
   "metadata": {
    "scrolled": true
   },
   "outputs": [
    {
     "name": "stderr",
     "output_type": "stream",
     "text": [
      "Training Epochs:  19%|████████████▋                                                     | 193/1000 [09:09<40:29,  3.01s/epoch]"
     ]
    }
   ],
   "source": [
    "import os\n",
    "from tqdm import tqdm\n",
    "# torch.autograd.set_detect_anomaly(True)\n",
    "\n",
    "num_epochs = 1000\n",
    "early_stopping = 30\n",
    "val_watch = []\n",
    "t_total = time.time()\n",
    "current_time = time.strftime(\"%Y-%m-%d_%H-%M-%S\", time.localtime())\n",
    "\n",
    "\n",
    "save_path = './models/hnff/' + current_time + '/' + current_time + '.pth'\n",
    "os.makedirs(os.path.dirname(save_path), exist_ok=True)  # 创建目录，如果目录已存在不抛出错误\n",
    "\n",
    "        \n",
    "for epoch in tqdm(range(num_epochs), desc=\"Training Epochs\", unit=\"epoch\"):\n",
    "    val = train(epoch, save_path)  # 训练并获得结果\n",
    "    if val is None:  # 检查是否返回了None值\n",
    "        print(f\"Warning: train(epoch) returned None for epoch {epoch}. Skipping this iteration.\")\n",
    "        continue\n",
    "    \n",
    "    val_watch.append(val)  # 将结果添加到val_watch\n",
    "    # if ((num_epochs - epoch) < 30):\n",
    "    for filename in filenames:\n",
    "        test(filename)  # 调用测试函数\n",
    "        \n",
    "for filename in filenames:\n",
    "    get_top_k_AVEresult(filename)\n",
    "\n",
    "    # if epoch > early_stopping and val_watch[-1] > np.mean(val_watch[-(early_stopping + 1):-1]):\n",
    "    #     print(\"Early stopping...\")\n",
    "    #     break\n",
    "\n",
    "\n",
    "\n",
    "print(\"Optimization Finished!\")\n",
    "print(\"Total time elapsed: {:.4f}s\".format(time.time() - t_total))\n",
    "print(\"Printing the weights : \")"
   ]
  },
  {
   "cell_type": "code",
   "execution_count": null,
   "metadata": {
    "collapsed": false,
    "jupyter": {
     "outputs_hidden": false
    },
    "pycharm": {
     "name": "#%%\n"
    }
   },
   "outputs": [],
   "source": [
    "# filename = '20241119_st-100_N-100_BH-40_SF-0_L-20_uni-1'\n",
    "# data_file = './dataset/' + filename + '/ProcessedMonitorSnifferRx.csv'\n",
    "# test_data, adj, T, group_num = load_data(1,data_file)\n",
    "# # print(processed_data[0].edge_attr)\n",
    "# edge_feature_size = test_data[0].edge_attr.shape[1]\n",
    "# nodes_feature_size = test_data[0].x.shape[1]\n",
    "# end_index = len(test_data)\n",
    "# # print(end_index)"
   ]
  },
  {
   "cell_type": "code",
   "execution_count": null,
   "metadata": {},
   "outputs": [],
   "source": [
    "# 加载模型\n",
    "# import os\n",
    "# import time\n",
    "# import torch.optim as optim\n",
    "# from utils import accuracy, auc, precision, recall, f1_score\n",
    "# import torch.nn.functional as F\n",
    "# import torch\n",
    "# from utils import load_data\n",
    "# import numpy as np\n",
    "# import models \n",
    "# acc_measure = accuracy\n",
    "# save_path = './models/2024-12-09_10-20-23/2024-12-09_10-20-23.pth'\n",
    "# test_model = models.HypergraphModel(nodes_feature_size, edge_feature_size)\n",
    "# # test_model.load_state_dict(torch.load(save_path, weights_only=True))\n",
    "# checkpoint = torch.load(save_path, weights_only=True)\n",
    "# test_model.load_state_dict(checkpoint['model_state_dict'])\n",
    "# optimizer.load_state_dict(checkpoint['optimizer_state_dict'])\n",
    "# epoch = checkpoint['epoch']\n",
    "# test_model.eval()  # 切换到评估模式"
   ]
  },
  {
   "cell_type": "code",
   "execution_count": null,
   "metadata": {},
   "outputs": [],
   "source": [
    "# for i in range(end_index):\n",
    "#     print(i)\n",
    "#     output = test_model(test_data[i].x, test_data[i].edge_index, \n",
    "#                              test_data[i].edge_weights, test_data[i].edge_attr, adj[i], T[i])\n",
    "#     print(output)\n",
    "#     labels = test_data[i].y\n",
    "#     acc_val = acc_measure(output, labels)\n",
    "#     auc_val = auc(output, labels)\n",
    "#     per_val = precision(output, labels)\n",
    "#     recall_val = recall(output, labels)\n",
    "#     f1_val = f1_score(output, labels)\n",
    "#     print(\n",
    "#         'acc_val: {:.4f}'.format(acc_val.item()),\n",
    "#         'auc_val: {:.4f}'.format(auc_val),\n",
    "#         'per_val: {:.4f}'.format(per_val),\n",
    "#         'recall_val: {:.4f}'.format(recall_val),\n",
    "#         'f1_val: {:.4f}'.format(f1_val))"
   ]
  },
  {
   "cell_type": "code",
   "execution_count": null,
   "metadata": {},
   "outputs": [],
   "source": []
  }
 ],
 "metadata": {
  "kernelspec": {
   "display_name": "Python 3 (ipykernel)",
   "language": "python",
   "name": "python3"
  },
  "language_info": {
   "codemirror_mode": {
    "name": "ipython",
    "version": 3
   },
   "file_extension": ".py",
   "mimetype": "text/x-python",
   "name": "python",
   "nbconvert_exporter": "python",
   "pygments_lexer": "ipython3",
   "version": "3.9.20"
  }
 },
 "nbformat": 4,
 "nbformat_minor": 4
}
